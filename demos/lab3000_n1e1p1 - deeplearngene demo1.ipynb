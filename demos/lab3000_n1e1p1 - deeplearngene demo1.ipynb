{
 "cells": [
  {
   "cell_type": "markdown",
   "metadata": {},
   "source": [
    "**A suggested experimental workflow is to name the clade 'environment' a reference to a location in a notebook, which can be used to keep track of experimental steps**\n",
    "\n",
    "- The environment paramter is used to name the files generated from clade activities, and also names the folder in which the generated files are stored\n",
    "- Evernote or OneNote are useful notebooks for tracking experiment activities\n",
    "    * Jupyter Notebooks or relevant .py scripts can be stored at each experimental step to record (perhaps redundantly--which is ok in experimental notekeeping) clade functions called or edits to .py scripts (if any) made during a given experimental step "
   ]
  },
  {
   "cell_type": "code",
   "execution_count": 1,
   "metadata": {
    "collapsed": false
   },
   "outputs": [
    {
     "name": "stderr",
     "output_type": "stream",
     "text": [
      "Using TensorFlow backend.\n",
      "WARNING - DLGn1e1p1 - No observers have been added to this run\n",
      "INFO - DLGn1e1p1 - Running command 'main'\n",
      "INFO - DLGn1e1p1 - Started\n",
      "INFO - DLGn1e1p1 - Completed after 0:00:00\n"
     ]
    },
    {
     "name": "stdout",
     "output_type": "stream",
     "text": [
      "Vectorizing sequence data...\n",
      "x_ shape: (8982, 10000)\n",
      "46 classes\n",
      "Converting class vector to binary class matrix (for use with categorical_crossentropy)\n"
     ]
    }
   ],
   "source": [
    "from environment import ex\n",
    "import clades\n",
    "import pandas as pd\n",
    "import os\n",
    "\n",
    "#limit the architectures that will be generated\n",
    "two_layers_max = {'type': 'range', 'bounds': [1, 2]}\n",
    "max_ten_units = {'type': 'range', 'bounds': [2, 10]}\n",
    "\n",
    "#create a new sacred object, which includes the config dictionary\n",
    "n1e1p1b1_dict = ex.run(config_updates=\\\n",
    "                          {'population_size':3,\\\n",
    "                           'environment':'lab3000_n1e1p1b1',\\\n",
    "                           'max_train_time':5,\\\n",
    "                          'nb_layers':two_layers_max,\\\n",
    "                          'nb_units':max_ten_units})\n",
    "#create a new clade object, passing in the config dictionary\n",
    "n1e1p1b1_clade = clades.GAFC1(n1e1p1b1_dict.config)\n",
    "\n",
    "#loading the data creates train,test, and validation sets\n",
    "#and also creates a folder to store the output of clade activity \n",
    "n1e1p1b1_clade.load_data()"
   ]
  },
  {
   "cell_type": "markdown",
   "metadata": {},
   "source": [
    "* Initially the output folder is empty    \n",
    "* Generations are 0-indexed"
   ]
  },
  {
   "cell_type": "code",
   "execution_count": 2,
   "metadata": {
    "collapsed": false
   },
   "outputs": [
    {
     "data": {
      "text/plain": [
       "0"
      ]
     },
     "execution_count": 2,
     "metadata": {},
     "output_type": "execute_result"
    }
   ],
   "source": [
    "n1e1p1b1_clade.current_generation"
   ]
  },
  {
   "cell_type": "markdown",
   "metadata": {},
   "source": [
    "- spawn() creates a pandas dataframe of genes which 'encode' the model architectures of a given population\n",
    "- the dataframe is saved as a property and also pickled into the experiment folder\n",
    "    * Note that the pickled dataframe file, and gene and model name includes reference to the generation (Gen0)"
   ]
  },
  {
   "cell_type": "code",
   "execution_count": 3,
   "metadata": {
    "collapsed": true
   },
   "outputs": [],
   "source": [
    "n1e1p1b1_clade.spawn()"
   ]
  },
  {
   "cell_type": "code",
   "execution_count": 4,
   "metadata": {
    "collapsed": false
   },
   "outputs": [
    {
     "data": {
      "text/html": [
       "<div>\n",
       "<table border=\"1\" class=\"dataframe\">\n",
       "  <thead>\n",
       "    <tr style=\"text-align: right;\">\n",
       "      <th></th>\n",
       "      <th>LR</th>\n",
       "      <th>activations</th>\n",
       "      <th>batch_size</th>\n",
       "      <th>epochs</th>\n",
       "      <th>gene_name</th>\n",
       "      <th>layer_units</th>\n",
       "      <th>loss</th>\n",
       "      <th>model_name</th>\n",
       "      <th>nb_layers</th>\n",
       "      <th>optimizer</th>\n",
       "    </tr>\n",
       "  </thead>\n",
       "  <tbody>\n",
       "    <tr>\n",
       "      <th>0</th>\n",
       "      <td>0.106895</td>\n",
       "      <td>[relu]</td>\n",
       "      <td>512</td>\n",
       "      <td>4</td>\n",
       "      <td>lab3000_n1e1p1b1+Gen0+gene0</td>\n",
       "      <td>[4]</td>\n",
       "      <td>categorical_crossentropy</td>\n",
       "      <td>lab3000_n1e1p1b1+Gen0+gene0+model.h5</td>\n",
       "      <td>1</td>\n",
       "      <td>Adadelta</td>\n",
       "    </tr>\n",
       "    <tr>\n",
       "      <th>0</th>\n",
       "      <td>0.065681</td>\n",
       "      <td>[relu, softplus]</td>\n",
       "      <td>512</td>\n",
       "      <td>16</td>\n",
       "      <td>lab3000_n1e1p1b1+Gen0+gene1</td>\n",
       "      <td>[4, 10]</td>\n",
       "      <td>categorical_crossentropy</td>\n",
       "      <td>lab3000_n1e1p1b1+Gen0+gene1+model.h5</td>\n",
       "      <td>2</td>\n",
       "      <td>RMSProp</td>\n",
       "    </tr>\n",
       "    <tr>\n",
       "      <th>0</th>\n",
       "      <td>0.004449</td>\n",
       "      <td>[softmax]</td>\n",
       "      <td>64</td>\n",
       "      <td>16</td>\n",
       "      <td>lab3000_n1e1p1b1+Gen0+gene2</td>\n",
       "      <td>[9]</td>\n",
       "      <td>categorical_crossentropy</td>\n",
       "      <td>lab3000_n1e1p1b1+Gen0+gene2+model.h5</td>\n",
       "      <td>1</td>\n",
       "      <td>Adam</td>\n",
       "    </tr>\n",
       "  </tbody>\n",
       "</table>\n",
       "</div>"
      ],
      "text/plain": [
       "         LR       activations  batch_size  epochs  \\\n",
       "0  0.106895            [relu]         512       4   \n",
       "0  0.065681  [relu, softplus]         512      16   \n",
       "0  0.004449         [softmax]          64      16   \n",
       "\n",
       "                     gene_name layer_units                      loss  \\\n",
       "0  lab3000_n1e1p1b1+Gen0+gene0         [4]  categorical_crossentropy   \n",
       "0  lab3000_n1e1p1b1+Gen0+gene1     [4, 10]  categorical_crossentropy   \n",
       "0  lab3000_n1e1p1b1+Gen0+gene2         [9]  categorical_crossentropy   \n",
       "\n",
       "                             model_name  nb_layers optimizer  \n",
       "0  lab3000_n1e1p1b1+Gen0+gene0+model.h5          1  Adadelta  \n",
       "0  lab3000_n1e1p1b1+Gen0+gene1+model.h5          2   RMSProp  \n",
       "0  lab3000_n1e1p1b1+Gen0+gene2+model.h5          1      Adam  "
      ]
     },
     "execution_count": 4,
     "metadata": {},
     "output_type": "execute_result"
    }
   ],
   "source": [
    "n1e1p1b1_clade.genotypes"
   ]
  },
  {
   "cell_type": "markdown",
   "metadata": {},
   "source": []
  },
  {
   "cell_type": "markdown",
   "metadata": {},
   "source": [
    "* seed_models() acts as an intermediary between genotypes and model evaluations, which are executed in grow_models()\n",
    "* compiled models are saved as .h5 files in the experiment folder"
   ]
  },
  {
   "cell_type": "code",
   "execution_count": 5,
   "metadata": {
    "collapsed": true
   },
   "outputs": [],
   "source": [
    "n1e1p1b1_clade.seed_models()"
   ]
  },
  {
   "cell_type": "code",
   "execution_count": 6,
   "metadata": {
    "collapsed": false
   },
   "outputs": [
    {
     "name": "stdout",
     "output_type": "stream",
     "text": [
      "this is the index:  0\n",
      "and this is the gene:  LR                                         0.106895\n",
      "activations                                  [relu]\n",
      "batch_size                                      512\n",
      "epochs                                            4\n",
      "gene_name               lab3000_n1e1p1b1+Gen0+gene0\n",
      "layer_units                                     [4]\n",
      "loss                       categorical_crossentropy\n",
      "model_name     lab3000_n1e1p1b1+Gen0+gene0+model.h5\n",
      "nb_layers                                         1\n",
      "optimizer                                  Adadelta\n",
      "Name: 0, dtype: object\n",
      "Train on 8083 samples, validate on 899 samples\n",
      "Epoch 1/4\n",
      "8083/8083 [==============================] - 3s - loss: 3.8003 - acc: 0.1518 - val_loss: 3.7406 - val_acc: 0.2147\n",
      "Epoch 2/4\n",
      "8083/8083 [==============================] - 1s - loss: 3.6515 - acc: 0.3167 - val_loss: 3.5476 - val_acc: 0.4082\n",
      "Epoch 3/4\n",
      "7680/8083 [===========================>..] - ETA: 0s - loss: 3.3815 - acc: 0.4320_______Stopping after 5 seconds.\n",
      "8083/8083 [==============================] - 1s - loss: 3.3726 - acc: 0.4328 - val_loss: 3.1841 - val_acc: 0.4705\n",
      "2080/2246 [==========================>...] - ETA: 0sthis is the index:  1\n",
      "and this is the gene:  LR                                        0.0656806\n",
      "activations                        [relu, softplus]\n",
      "batch_size                                      512\n",
      "epochs                                           16\n",
      "gene_name               lab3000_n1e1p1b1+Gen0+gene1\n",
      "layer_units                                 [4, 10]\n",
      "loss                       categorical_crossentropy\n",
      "model_name     lab3000_n1e1p1b1+Gen0+gene1+model.h5\n",
      "nb_layers                                         2\n",
      "optimizer                                   RMSProp\n",
      "Name: 0, dtype: object\n",
      "Train on 8083 samples, validate on 899 samples\n",
      "Epoch 1/16\n",
      "8083/8083 [==============================] - 2s - loss: 3.9295 - acc: 0.0040 - val_loss: 3.7433 - val_acc: 0.0044\n",
      "Epoch 2/16\n",
      "8083/8083 [==============================] - 1s - loss: 3.5759 - acc: 0.0073 - val_loss: 3.4173 - val_acc: 0.0189\n",
      "Epoch 3/16\n",
      "8083/8083 [==============================] - 1s - loss: 3.2314 - acc: 0.1466 - val_loss: 3.0809 - val_acc: 0.3471\n",
      "Epoch 4/16\n",
      "7680/8083 [===========================>..] - ETA: 0s - loss: 2.8953 - acc: 0.4474_______Stopping after 5 seconds.\n",
      "8083/8083 [==============================] - 1s - loss: 2.8852 - acc: 0.4506 - val_loss: 2.7559 - val_acc: 0.4461\n",
      "2246/2246 [==============================] - 0s     \n",
      "in the else\n",
      "this is the index:  2\n",
      "and this is the gene:  LR                                       0.00444869\n",
      "activations                               [softmax]\n",
      "batch_size                                       64\n",
      "epochs                                           16\n",
      "gene_name               lab3000_n1e1p1b1+Gen0+gene2\n",
      "layer_units                                     [9]\n",
      "loss                       categorical_crossentropy\n",
      "model_name     lab3000_n1e1p1b1+Gen0+gene2+model.h5\n",
      "nb_layers                                         1\n",
      "optimizer                                      Adam\n",
      "Name: 0, dtype: object\n",
      "Train on 8083 samples, validate on 899 samples\n",
      "Epoch 1/16\n",
      "8083/8083 [==============================] - 3s - loss: 3.5798 - acc: 0.1379 - val_loss: 3.3895 - val_acc: 0.2191\n",
      "Epoch 2/16\n",
      "7936/8083 [============================>.] - ETA: 0s - loss: 3.2423 - acc: 0.2387_______Stopping after 5 seconds.\n",
      "8083/8083 [==============================] - 2s - loss: 3.2388 - acc: 0.2380 - val_loss: 3.1041 - val_acc: 0.2570\n",
      "2080/2246 [==========================>...] - ETA: 0sin the else\n"
     ]
    }
   ],
   "source": [
    "n1e1p1b1_clade.grow_models()"
   ]
  },
  {
   "cell_type": "markdown",
   "metadata": {},
   "source": [
    "^^^verbose output of n1e1p1b1_clade.grow_models()"
   ]
  },
  {
   "cell_type": "markdown",
   "metadata": {},
   "source": [
    "- grow_models() trains the models and generates pickled 'growth analyses' dataframes, one for each model trained, which include train and validation loss and accuracy for each batch and epoch, as well as the time take to run each batch and epoch\n",
    "- grow_models() also pickles, and saves as a property, a phenotypes dataframe, which summarizes the performance of each model\n",
    "    * the misclassed dictionaries store the true and labeled classes for each mislabeled datapoint\n",
    "- grow_models() also saves each trained model as a .h5 file"
   ]
  },
  {
   "cell_type": "code",
   "execution_count": 7,
   "metadata": {
    "collapsed": false
   },
   "outputs": [
    {
     "data": {
      "text/html": [
       "<div>\n",
       "<table border=\"1\" class=\"dataframe\">\n",
       "  <thead>\n",
       "    <tr style=\"text-align: right;\">\n",
       "      <th></th>\n",
       "      <th>gene_name</th>\n",
       "      <th>misclassed</th>\n",
       "      <th>test_accuracy</th>\n",
       "      <th>test_loss</th>\n",
       "      <th>time</th>\n",
       "      <th>train_accuracy</th>\n",
       "      <th>train_loss</th>\n",
       "    </tr>\n",
       "  </thead>\n",
       "  <tbody>\n",
       "    <tr>\n",
       "      <th>0</th>\n",
       "      <td>lab3000_n1e1p1b1+Gen0+gene0</td>\n",
       "      <td>{'true_class': [3, 10, 1, 4, 3, 3, 3, 5, 1, 1,...</td>\n",
       "      <td>0.468833</td>\n",
       "      <td>3.168827</td>\n",
       "      <td>6.302856</td>\n",
       "      <td>0.467401</td>\n",
       "      <td>3.147856</td>\n",
       "    </tr>\n",
       "    <tr>\n",
       "      <th>0</th>\n",
       "      <td>lab3000_n1e1p1b1+Gen0+gene1</td>\n",
       "      <td>{'true_class': [10, 1, 4, 4, 5, 4, 1, 1, 11, 2...</td>\n",
       "      <td>0.455476</td>\n",
       "      <td>2.760931</td>\n",
       "      <td>6.278670</td>\n",
       "      <td>0.464803</td>\n",
       "      <td>2.702639</td>\n",
       "    </tr>\n",
       "    <tr>\n",
       "      <th>0</th>\n",
       "      <td>lab3000_n1e1p1b1+Gen0+gene2</td>\n",
       "      <td>{'true_class': [3, 10, 1, 3, 3, 3, 3, 3, 5, 1,...</td>\n",
       "      <td>0.253339</td>\n",
       "      <td>3.106247</td>\n",
       "      <td>5.817873</td>\n",
       "      <td>0.265124</td>\n",
       "      <td>3.091641</td>\n",
       "    </tr>\n",
       "  </tbody>\n",
       "</table>\n",
       "</div>"
      ],
      "text/plain": [
       "                     gene_name  \\\n",
       "0  lab3000_n1e1p1b1+Gen0+gene0   \n",
       "0  lab3000_n1e1p1b1+Gen0+gene1   \n",
       "0  lab3000_n1e1p1b1+Gen0+gene2   \n",
       "\n",
       "                                          misclassed  test_accuracy  \\\n",
       "0  {'true_class': [3, 10, 1, 4, 3, 3, 3, 5, 1, 1,...       0.468833   \n",
       "0  {'true_class': [10, 1, 4, 4, 5, 4, 1, 1, 11, 2...       0.455476   \n",
       "0  {'true_class': [3, 10, 1, 3, 3, 3, 3, 3, 5, 1,...       0.253339   \n",
       "\n",
       "   test_loss      time  train_accuracy  train_loss  \n",
       "0   3.168827  6.302856        0.467401    3.147856  \n",
       "0   2.760931  6.278670        0.464803    2.702639  \n",
       "0   3.106247  5.817873        0.265124    3.091641  "
      ]
     },
     "execution_count": 7,
     "metadata": {},
     "output_type": "execute_result"
    }
   ],
   "source": [
    "n1e1p1b1_clade.phenotypes"
   ]
  },
  {
   "cell_type": "markdown",
   "metadata": {},
   "source": [
    "* select_parents() selects, by default, the top 20% of models by test accuracy, plut 10% random models; or if the population size is small, such as in this demo case, at least two parent models are selected"
   ]
  },
  {
   "cell_type": "code",
   "execution_count": 8,
   "metadata": {
    "collapsed": false
   },
   "outputs": [],
   "source": [
    "n1e1p1b1_clade.select_parents()"
   ]
  },
  {
   "cell_type": "code",
   "execution_count": 9,
   "metadata": {
    "collapsed": false
   },
   "outputs": [
    {
     "data": {
      "text/html": [
       "<div>\n",
       "<table border=\"1\" class=\"dataframe\">\n",
       "  <thead>\n",
       "    <tr style=\"text-align: right;\">\n",
       "      <th></th>\n",
       "      <th>LR</th>\n",
       "      <th>activations</th>\n",
       "      <th>batch_size</th>\n",
       "      <th>epochs</th>\n",
       "      <th>gene_name</th>\n",
       "      <th>layer_units</th>\n",
       "      <th>loss</th>\n",
       "      <th>model_name</th>\n",
       "      <th>nb_layers</th>\n",
       "      <th>optimizer</th>\n",
       "    </tr>\n",
       "  </thead>\n",
       "  <tbody>\n",
       "    <tr>\n",
       "      <th>0</th>\n",
       "      <td>0.106895</td>\n",
       "      <td>[relu]</td>\n",
       "      <td>512</td>\n",
       "      <td>4</td>\n",
       "      <td>lab3000_n1e1p1b1+Gen0+gene0</td>\n",
       "      <td>[4]</td>\n",
       "      <td>categorical_crossentropy</td>\n",
       "      <td>lab3000_n1e1p1b1+Gen0+gene0+model.h5</td>\n",
       "      <td>1</td>\n",
       "      <td>Adadelta</td>\n",
       "    </tr>\n",
       "    <tr>\n",
       "      <th>0</th>\n",
       "      <td>0.004449</td>\n",
       "      <td>[softmax]</td>\n",
       "      <td>64</td>\n",
       "      <td>16</td>\n",
       "      <td>lab3000_n1e1p1b1+Gen0+gene2</td>\n",
       "      <td>[9]</td>\n",
       "      <td>categorical_crossentropy</td>\n",
       "      <td>lab3000_n1e1p1b1+Gen0+gene2+model.h5</td>\n",
       "      <td>1</td>\n",
       "      <td>Adam</td>\n",
       "    </tr>\n",
       "  </tbody>\n",
       "</table>\n",
       "</div>"
      ],
      "text/plain": [
       "         LR activations  batch_size  epochs                    gene_name  \\\n",
       "0  0.106895      [relu]         512       4  lab3000_n1e1p1b1+Gen0+gene0   \n",
       "0  0.004449   [softmax]          64      16  lab3000_n1e1p1b1+Gen0+gene2   \n",
       "\n",
       "  layer_units                      loss                            model_name  \\\n",
       "0         [4]  categorical_crossentropy  lab3000_n1e1p1b1+Gen0+gene0+model.h5   \n",
       "0         [9]  categorical_crossentropy  lab3000_n1e1p1b1+Gen0+gene2+model.h5   \n",
       "\n",
       "   nb_layers optimizer  \n",
       "0          1  Adadelta  \n",
       "0          1      Adam  "
      ]
     },
     "execution_count": 9,
     "metadata": {},
     "output_type": "execute_result"
    }
   ],
   "source": [
    "n1e1p1b1_clade.parent_genes"
   ]
  },
  {
   "cell_type": "markdown",
   "metadata": {},
   "source": [
    "* breed() generates a new population of genes, encoding a new generation of models; note that current_generation is incremented when clade.breed() is run"
   ]
  },
  {
   "cell_type": "code",
   "execution_count": 10,
   "metadata": {
    "collapsed": true
   },
   "outputs": [],
   "source": [
    "n1e1p1b1_clade.breed()"
   ]
  },
  {
   "cell_type": "code",
   "execution_count": 11,
   "metadata": {
    "collapsed": false
   },
   "outputs": [
    {
     "data": {
      "text/plain": [
       "1"
      ]
     },
     "execution_count": 11,
     "metadata": {},
     "output_type": "execute_result"
    }
   ],
   "source": [
    "n1e1p1b1_clade.current_generation"
   ]
  },
  {
   "cell_type": "code",
   "execution_count": 12,
   "metadata": {
    "collapsed": false
   },
   "outputs": [
    {
     "data": {
      "text/html": [
       "<div>\n",
       "<table border=\"1\" class=\"dataframe\">\n",
       "  <thead>\n",
       "    <tr style=\"text-align: right;\">\n",
       "      <th></th>\n",
       "      <th>LR</th>\n",
       "      <th>activations</th>\n",
       "      <th>batch_size</th>\n",
       "      <th>epochs</th>\n",
       "      <th>gene_name</th>\n",
       "      <th>layer_units</th>\n",
       "      <th>model_name</th>\n",
       "      <th>nb_layers</th>\n",
       "      <th>optimizer</th>\n",
       "    </tr>\n",
       "  </thead>\n",
       "  <tbody>\n",
       "    <tr>\n",
       "      <th>0</th>\n",
       "      <td>0.004449</td>\n",
       "      <td>[relu]</td>\n",
       "      <td>512</td>\n",
       "      <td>16</td>\n",
       "      <td>lab3000_n1e1p1b1+Gen1+gene0</td>\n",
       "      <td>[9]</td>\n",
       "      <td>lab3000_n1e1p1b1+Gen1+gene0+model.h5</td>\n",
       "      <td>1</td>\n",
       "      <td>Adam</td>\n",
       "    </tr>\n",
       "    <tr>\n",
       "      <th>1</th>\n",
       "      <td>0.004449</td>\n",
       "      <td>[relu]</td>\n",
       "      <td>64</td>\n",
       "      <td>4</td>\n",
       "      <td>lab3000_n1e1p1b1+Gen1+gene1</td>\n",
       "      <td>[9]</td>\n",
       "      <td>lab3000_n1e1p1b1+Gen1+gene1+model.h5</td>\n",
       "      <td>1</td>\n",
       "      <td>Adam</td>\n",
       "    </tr>\n",
       "    <tr>\n",
       "      <th>2</th>\n",
       "      <td>0.004449</td>\n",
       "      <td>[softmax]</td>\n",
       "      <td>64</td>\n",
       "      <td>4</td>\n",
       "      <td>lab3000_n1e1p1b1+Gen1+gene2</td>\n",
       "      <td>[4]</td>\n",
       "      <td>lab3000_n1e1p1b1+Gen1+gene2+model.h5</td>\n",
       "      <td>1</td>\n",
       "      <td>Adadelta</td>\n",
       "    </tr>\n",
       "  </tbody>\n",
       "</table>\n",
       "</div>"
      ],
      "text/plain": [
       "         LR activations  batch_size  epochs                    gene_name  \\\n",
       "0  0.004449      [relu]         512      16  lab3000_n1e1p1b1+Gen1+gene0   \n",
       "1  0.004449      [relu]          64       4  lab3000_n1e1p1b1+Gen1+gene1   \n",
       "2  0.004449   [softmax]          64       4  lab3000_n1e1p1b1+Gen1+gene2   \n",
       "\n",
       "  layer_units                            model_name  nb_layers optimizer  \n",
       "0         [9]  lab3000_n1e1p1b1+Gen1+gene0+model.h5          1      Adam  \n",
       "1         [9]  lab3000_n1e1p1b1+Gen1+gene1+model.h5          1      Adam  \n",
       "2         [4]  lab3000_n1e1p1b1+Gen1+gene2+model.h5          1  Adadelta  "
      ]
     },
     "execution_count": 12,
     "metadata": {},
     "output_type": "execute_result"
    }
   ],
   "source": [
    "n1e1p1b1_clade.genotypes"
   ]
  },
  {
   "cell_type": "markdown",
   "metadata": {},
   "source": [
    "# after model evolution is run interactively, the commands can be saved to the experiment notebook (here, Evernote)"
   ]
  },
  {
   "cell_type": "code",
   "execution_count": null,
   "metadata": {
    "collapsed": true
   },
   "outputs": [],
   "source": []
  },
  {
   "cell_type": "code",
   "execution_count": null,
   "metadata": {
    "collapsed": true
   },
   "outputs": [],
   "source": []
  },
  {
   "cell_type": "code",
   "execution_count": null,
   "metadata": {
    "collapsed": true
   },
   "outputs": [],
   "source": []
  },
  {
   "cell_type": "code",
   "execution_count": null,
   "metadata": {
    "collapsed": true
   },
   "outputs": [],
   "source": []
  },
  {
   "cell_type": "code",
   "execution_count": null,
   "metadata": {
    "collapsed": true
   },
   "outputs": [],
   "source": []
  },
  {
   "cell_type": "code",
   "execution_count": null,
   "metadata": {
    "collapsed": true
   },
   "outputs": [],
   "source": []
  },
  {
   "cell_type": "code",
   "execution_count": null,
   "metadata": {
    "collapsed": true
   },
   "outputs": [],
   "source": []
  }
 ],
 "metadata": {
  "anaconda-cloud": {},
  "kernelspec": {
   "display_name": "Python [conda env:dl]",
   "language": "python",
   "name": "conda-env-dl-py"
  },
  "language_info": {
   "codemirror_mode": {
    "name": "ipython",
    "version": 3
   },
   "file_extension": ".py",
   "mimetype": "text/x-python",
   "name": "python",
   "nbconvert_exporter": "python",
   "pygments_lexer": "ipython3",
   "version": "3.6.0"
  }
 },
 "nbformat": 4,
 "nbformat_minor": 1
}
