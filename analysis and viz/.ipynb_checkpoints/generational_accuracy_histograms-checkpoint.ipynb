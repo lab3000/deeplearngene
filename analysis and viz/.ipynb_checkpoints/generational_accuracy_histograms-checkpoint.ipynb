{
 "cells": [
  {
   "cell_type": "markdown",
   "metadata": {},
   "source": [
    "# Histograms are at the bottom of this notebook"
   ]
  },
  {
   "cell_type": "code",
   "execution_count": 2,
   "metadata": {
    "collapsed": true
   },
   "outputs": [],
   "source": [
    "import matplotlib.pyplot as plt\n",
    "%matplotlib inline\n",
    "import seaborn as sns\n",
    "import pandas as pd\n",
    "import numpy as np\n",
    "import os"
   ]
  },
  {
   "cell_type": "markdown",
   "metadata": {},
   "source": [
    "### Gen0"
   ]
  },
  {
   "cell_type": "code",
   "execution_count": 6,
   "metadata": {
    "collapsed": false
   },
   "outputs": [
    {
     "data": {
      "text/html": [
       "<div>\n",
       "<table border=\"1\" class=\"dataframe\">\n",
       "  <thead>\n",
       "    <tr style=\"text-align: right;\">\n",
       "      <th></th>\n",
       "      <th>gene_name</th>\n",
       "      <th>misclassed</th>\n",
       "      <th>test_accuracy</th>\n",
       "      <th>test_loss</th>\n",
       "      <th>time</th>\n",
       "      <th>train_accuracy</th>\n",
       "      <th>train_loss</th>\n",
       "    </tr>\n",
       "  </thead>\n",
       "  <tbody>\n",
       "    <tr>\n",
       "      <th>0</th>\n",
       "      <td>lab3000_n1e1p1b2+Gen0+gene13</td>\n",
       "      <td>{'true_class': [4, 4, 5, 23, 20, 1, 40, 15, 1,...</td>\n",
       "      <td>0.803651</td>\n",
       "      <td>0.883051</td>\n",
       "      <td>47.459044</td>\n",
       "      <td>0.965607</td>\n",
       "      <td>0.120601</td>\n",
       "    </tr>\n",
       "    <tr>\n",
       "      <th>0</th>\n",
       "      <td>lab3000_n1e1p1b2+Gen0+gene6</td>\n",
       "      <td>{'true_class': [4, 5, 23, 20, 1, 40, 15, 1, 21...</td>\n",
       "      <td>0.780944</td>\n",
       "      <td>1.239399</td>\n",
       "      <td>31.594541</td>\n",
       "      <td>0.962266</td>\n",
       "      <td>0.149377</td>\n",
       "    </tr>\n",
       "    <tr>\n",
       "      <th>0</th>\n",
       "      <td>lab3000_n1e1p1b2+Gen0+gene24</td>\n",
       "      <td>{'true_class': [4, 4, 5, 23, 10, 20, 1, 40, 15...</td>\n",
       "      <td>0.752449</td>\n",
       "      <td>1.030251</td>\n",
       "      <td>194.952801</td>\n",
       "      <td>0.827910</td>\n",
       "      <td>0.682031</td>\n",
       "    </tr>\n",
       "    <tr>\n",
       "      <th>0</th>\n",
       "      <td>lab3000_n1e1p1b2+Gen0+gene25</td>\n",
       "      <td>{'true_class': [4, 4, 5, 23, 8, 3, 6, 10, 20, ...</td>\n",
       "      <td>0.743544</td>\n",
       "      <td>1.087753</td>\n",
       "      <td>141.736290</td>\n",
       "      <td>0.838550</td>\n",
       "      <td>0.620869</td>\n",
       "    </tr>\n",
       "    <tr>\n",
       "      <th>0</th>\n",
       "      <td>lab3000_n1e1p1b2+Gen0+gene11</td>\n",
       "      <td>{'true_class': [10, 4, 4, 5, 23, 8, 6, 20, 1, ...</td>\n",
       "      <td>0.723063</td>\n",
       "      <td>1.521470</td>\n",
       "      <td>26.861886</td>\n",
       "      <td>0.932327</td>\n",
       "      <td>0.261401</td>\n",
       "    </tr>\n",
       "  </tbody>\n",
       "</table>\n",
       "</div>"
      ],
      "text/plain": [
       "                      gene_name  \\\n",
       "0  lab3000_n1e1p1b2+Gen0+gene13   \n",
       "0   lab3000_n1e1p1b2+Gen0+gene6   \n",
       "0  lab3000_n1e1p1b2+Gen0+gene24   \n",
       "0  lab3000_n1e1p1b2+Gen0+gene25   \n",
       "0  lab3000_n1e1p1b2+Gen0+gene11   \n",
       "\n",
       "                                          misclassed  test_accuracy  \\\n",
       "0  {'true_class': [4, 4, 5, 23, 20, 1, 40, 15, 1,...       0.803651   \n",
       "0  {'true_class': [4, 5, 23, 20, 1, 40, 15, 1, 21...       0.780944   \n",
       "0  {'true_class': [4, 4, 5, 23, 10, 20, 1, 40, 15...       0.752449   \n",
       "0  {'true_class': [4, 4, 5, 23, 8, 3, 6, 10, 20, ...       0.743544   \n",
       "0  {'true_class': [10, 4, 4, 5, 23, 8, 6, 20, 1, ...       0.723063   \n",
       "\n",
       "   test_loss        time  train_accuracy  train_loss  \n",
       "0   0.883051   47.459044        0.965607    0.120601  \n",
       "0   1.239399   31.594541        0.962266    0.149377  \n",
       "0   1.030251  194.952801        0.827910    0.682031  \n",
       "0   1.087753  141.736290        0.838550    0.620869  \n",
       "0   1.521470   26.861886        0.932327    0.261401  "
      ]
     },
     "execution_count": 6,
     "metadata": {},
     "output_type": "execute_result"
    }
   ],
   "source": [
    "#upload geneotypes and phenotypes \n",
    "Gen0_genotypes = pd.read_pickle(os.path.expanduser('~/Experiments/lab3000_n1e1p1b2/lab3000_n1e1p1b2+Gen0+genotypes.p'))\n",
    "Gen0_phenotypes = pd.read_pickle(os.path.expanduser('~/Experiments/lab3000_n1e1p1b2/lab3000_n1e1p1b2+Gen0+phenotypes.p'))\n",
    "Gen0_phenotypes.sort_values('test_accuracy',ascending=False).head()"
   ]
  },
  {
   "cell_type": "markdown",
   "metadata": {},
   "source": [
    "### Gen1"
   ]
  },
  {
   "cell_type": "code",
   "execution_count": 7,
   "metadata": {
    "collapsed": false
   },
   "outputs": [
    {
     "data": {
      "text/html": [
       "<div>\n",
       "<table border=\"1\" class=\"dataframe\">\n",
       "  <thead>\n",
       "    <tr style=\"text-align: right;\">\n",
       "      <th></th>\n",
       "      <th>gene_name</th>\n",
       "      <th>misclassed</th>\n",
       "      <th>test_accuracy</th>\n",
       "      <th>test_loss</th>\n",
       "      <th>time</th>\n",
       "      <th>train_accuracy</th>\n",
       "      <th>train_loss</th>\n",
       "    </tr>\n",
       "  </thead>\n",
       "  <tbody>\n",
       "    <tr>\n",
       "      <th>0</th>\n",
       "      <td>lab3000_n1e1p1b2+Gen1+gene15</td>\n",
       "      <td>{'true_class': [10, 4, 5, 23, 20, 1, 40, 15, 1...</td>\n",
       "      <td>0.803651</td>\n",
       "      <td>0.897263</td>\n",
       "      <td>122.271955</td>\n",
       "      <td>0.964122</td>\n",
       "      <td>0.125870</td>\n",
       "    </tr>\n",
       "    <tr>\n",
       "      <th>0</th>\n",
       "      <td>lab3000_n1e1p1b2+Gen1+gene8</td>\n",
       "      <td>{'true_class': [4, 4, 5, 23, 20, 1, 40, 15, 1,...</td>\n",
       "      <td>0.803206</td>\n",
       "      <td>0.934038</td>\n",
       "      <td>225.305663</td>\n",
       "      <td>0.961772</td>\n",
       "      <td>0.174198</td>\n",
       "    </tr>\n",
       "    <tr>\n",
       "      <th>0</th>\n",
       "      <td>lab3000_n1e1p1b2+Gen1+gene29</td>\n",
       "      <td>{'true_class': [4, 4, 5, 23, 20, 1, 40, 15, 1,...</td>\n",
       "      <td>0.801425</td>\n",
       "      <td>0.937885</td>\n",
       "      <td>52.716231</td>\n",
       "      <td>0.957442</td>\n",
       "      <td>0.177796</td>\n",
       "    </tr>\n",
       "    <tr>\n",
       "      <th>0</th>\n",
       "      <td>lab3000_n1e1p1b2+Gen1+gene20</td>\n",
       "      <td>{'true_class': [3, 4, 4, 5, 23, 20, 1, 40, 15,...</td>\n",
       "      <td>0.792520</td>\n",
       "      <td>1.012021</td>\n",
       "      <td>124.393423</td>\n",
       "      <td>0.958184</td>\n",
       "      <td>0.165223</td>\n",
       "    </tr>\n",
       "    <tr>\n",
       "      <th>0</th>\n",
       "      <td>lab3000_n1e1p1b2+Gen1+gene10</td>\n",
       "      <td>{'true_class': [4, 4, 5, 23, 20, 1, 40, 15, 1,...</td>\n",
       "      <td>0.787622</td>\n",
       "      <td>1.014112</td>\n",
       "      <td>127.006645</td>\n",
       "      <td>0.956328</td>\n",
       "      <td>0.164417</td>\n",
       "    </tr>\n",
       "  </tbody>\n",
       "</table>\n",
       "</div>"
      ],
      "text/plain": [
       "                      gene_name  \\\n",
       "0  lab3000_n1e1p1b2+Gen1+gene15   \n",
       "0   lab3000_n1e1p1b2+Gen1+gene8   \n",
       "0  lab3000_n1e1p1b2+Gen1+gene29   \n",
       "0  lab3000_n1e1p1b2+Gen1+gene20   \n",
       "0  lab3000_n1e1p1b2+Gen1+gene10   \n",
       "\n",
       "                                          misclassed  test_accuracy  \\\n",
       "0  {'true_class': [10, 4, 5, 23, 20, 1, 40, 15, 1...       0.803651   \n",
       "0  {'true_class': [4, 4, 5, 23, 20, 1, 40, 15, 1,...       0.803206   \n",
       "0  {'true_class': [4, 4, 5, 23, 20, 1, 40, 15, 1,...       0.801425   \n",
       "0  {'true_class': [3, 4, 4, 5, 23, 20, 1, 40, 15,...       0.792520   \n",
       "0  {'true_class': [4, 4, 5, 23, 20, 1, 40, 15, 1,...       0.787622   \n",
       "\n",
       "   test_loss        time  train_accuracy  train_loss  \n",
       "0   0.897263  122.271955        0.964122    0.125870  \n",
       "0   0.934038  225.305663        0.961772    0.174198  \n",
       "0   0.937885   52.716231        0.957442    0.177796  \n",
       "0   1.012021  124.393423        0.958184    0.165223  \n",
       "0   1.014112  127.006645        0.956328    0.164417  "
      ]
     },
     "execution_count": 7,
     "metadata": {},
     "output_type": "execute_result"
    }
   ],
   "source": [
    "#upload geneotypes and phenotypes \n",
    "Gen1_genotypes = pd.read_pickle(os.path.expanduser('~/Experiments/lab3000_n1e1p1b2/lab3000_n1e1p1b2+Gen1+genotypes.p'))\n",
    "Gen1_phenotypes = pd.read_pickle(os.path.expanduser('~/Experiments/lab3000_n1e1p1b2/lab3000_n1e1p1b2+Gen1+phenotypes.p'))\n",
    "Gen1_phenotypes.sort_values('test_accuracy',ascending=False).head()"
   ]
  },
  {
   "cell_type": "markdown",
   "metadata": {},
   "source": [
    "### Gen2"
   ]
  },
  {
   "cell_type": "code",
   "execution_count": 9,
   "metadata": {
    "collapsed": false
   },
   "outputs": [
    {
     "data": {
      "text/html": [
       "<div>\n",
       "<table border=\"1\" class=\"dataframe\">\n",
       "  <thead>\n",
       "    <tr style=\"text-align: right;\">\n",
       "      <th></th>\n",
       "      <th>gene_name</th>\n",
       "      <th>misclassed</th>\n",
       "      <th>test_accuracy</th>\n",
       "      <th>test_loss</th>\n",
       "      <th>time</th>\n",
       "      <th>train_accuracy</th>\n",
       "      <th>train_loss</th>\n",
       "    </tr>\n",
       "  </thead>\n",
       "  <tbody>\n",
       "    <tr>\n",
       "      <th>0</th>\n",
       "      <td>lab3000_n1e1p1b2+Gen2+gene26</td>\n",
       "      <td>{'true_class': [4, 5, 23, 20, 1, 40, 15, 1, 4,...</td>\n",
       "      <td>0.814782</td>\n",
       "      <td>0.854156</td>\n",
       "      <td>141.992026</td>\n",
       "      <td>0.927378</td>\n",
       "      <td>0.342601</td>\n",
       "    </tr>\n",
       "    <tr>\n",
       "      <th>0</th>\n",
       "      <td>lab3000_n1e1p1b2+Gen2+gene2</td>\n",
       "      <td>{'true_class': [4, 5, 23, 20, 1, 40, 15, 1, 21...</td>\n",
       "      <td>0.808994</td>\n",
       "      <td>0.834695</td>\n",
       "      <td>28.404398</td>\n",
       "      <td>0.955586</td>\n",
       "      <td>0.233952</td>\n",
       "    </tr>\n",
       "    <tr>\n",
       "      <th>0</th>\n",
       "      <td>lab3000_n1e1p1b2+Gen2+gene16</td>\n",
       "      <td>{'true_class': [4, 5, 23, 20, 1, 40, 15, 1, 21...</td>\n",
       "      <td>0.808549</td>\n",
       "      <td>0.933977</td>\n",
       "      <td>58.579753</td>\n",
       "      <td>0.960040</td>\n",
       "      <td>0.165074</td>\n",
       "    </tr>\n",
       "    <tr>\n",
       "      <th>0</th>\n",
       "      <td>lab3000_n1e1p1b2+Gen2+gene12</td>\n",
       "      <td>{'true_class': [4, 5, 23, 20, 1, 40, 15, 1, 21...</td>\n",
       "      <td>0.806768</td>\n",
       "      <td>0.912981</td>\n",
       "      <td>41.787451</td>\n",
       "      <td>0.967710</td>\n",
       "      <td>0.090800</td>\n",
       "    </tr>\n",
       "    <tr>\n",
       "      <th>0</th>\n",
       "      <td>lab3000_n1e1p1b2+Gen2+gene25</td>\n",
       "      <td>{'true_class': [4, 5, 23, 20, 1, 40, 15, 1, 4,...</td>\n",
       "      <td>0.806322</td>\n",
       "      <td>0.878398</td>\n",
       "      <td>128.751011</td>\n",
       "      <td>0.965236</td>\n",
       "      <td>0.121338</td>\n",
       "    </tr>\n",
       "  </tbody>\n",
       "</table>\n",
       "</div>"
      ],
      "text/plain": [
       "                      gene_name  \\\n",
       "0  lab3000_n1e1p1b2+Gen2+gene26   \n",
       "0   lab3000_n1e1p1b2+Gen2+gene2   \n",
       "0  lab3000_n1e1p1b2+Gen2+gene16   \n",
       "0  lab3000_n1e1p1b2+Gen2+gene12   \n",
       "0  lab3000_n1e1p1b2+Gen2+gene25   \n",
       "\n",
       "                                          misclassed  test_accuracy  \\\n",
       "0  {'true_class': [4, 5, 23, 20, 1, 40, 15, 1, 4,...       0.814782   \n",
       "0  {'true_class': [4, 5, 23, 20, 1, 40, 15, 1, 21...       0.808994   \n",
       "0  {'true_class': [4, 5, 23, 20, 1, 40, 15, 1, 21...       0.808549   \n",
       "0  {'true_class': [4, 5, 23, 20, 1, 40, 15, 1, 21...       0.806768   \n",
       "0  {'true_class': [4, 5, 23, 20, 1, 40, 15, 1, 4,...       0.806322   \n",
       "\n",
       "   test_loss        time  train_accuracy  train_loss  \n",
       "0   0.854156  141.992026        0.927378    0.342601  \n",
       "0   0.834695   28.404398        0.955586    0.233952  \n",
       "0   0.933977   58.579753        0.960040    0.165074  \n",
       "0   0.912981   41.787451        0.967710    0.090800  \n",
       "0   0.878398  128.751011        0.965236    0.121338  "
      ]
     },
     "execution_count": 9,
     "metadata": {},
     "output_type": "execute_result"
    }
   ],
   "source": [
    "#upload geneotypes and phenotypes \n",
    "Gen2_genotypes = pd.read_pickle(os.path.expanduser('~/Experiments/lab3000_n1e1p1b2/lab3000_n1e1p1b2+Gen2+genotypes.p'))\n",
    "Gen2_phenotypes = pd.read_pickle(os.path.expanduser('~/Experiments/lab3000_n1e1p1b2/lab3000_n1e1p1b2+Gen2+phenotypes.p'))\n",
    "Gen2_phenotypes.sort_values('test_accuracy',ascending=False).head()"
   ]
  },
  {
   "cell_type": "markdown",
   "metadata": {},
   "source": [
    "## Plots"
   ]
  },
  {
   "cell_type": "code",
   "execution_count": 18,
   "metadata": {
    "collapsed": false
   },
   "outputs": [
    {
     "data": {
      "image/png": "[encoded data removed]",
      "text/plain": [
       "<matplotlib.figure.Figure at 0x11d911eb8>"
      ]
     },
     "metadata": {},
     "output_type": "display_data"
    }
   ],
   "source": [
    "sns.set(font_scale=1.3);\n",
    "sns.set_style(\"whitegrid\");\n",
    "fig = plt.figure(figsize=(6,16));\n",
    "\n",
    "ax1 = plt.subplot2grid((4,1),(0,0));\n",
    "ax1 = sns.distplot(Gen2_phenotypes.test_accuracy,norm_hist=True,bins=50,\n",
    "                    color=sns.color_palette()[2],label='Gen2_test',kde=False);\n",
    "ax1 = sns.distplot(Gen2_phenotypes.train_accuracy,norm_hist=True,bins=50,\n",
    "                    color=sns.color_palette()[4],label='Gen2_train',kde=False);\n",
    "plt.ylabel(\"Count\");\n",
    "plt.xlabel(\"Accuracy\");\n",
    "plt.legend(loc='upper right',fontsize=16);\n",
    "plt.xlim([0,1.0])\n",
    "\n",
    "ax1 = plt.subplot2grid((4,1),(1,0));\n",
    "ax1 = sns.distplot(Gen1_phenotypes.test_accuracy,norm_hist=True,bins=50,\n",
    "                    color=sns.color_palette()[1],label='Gen1_test',kde=False);\n",
    "ax1 = sns.distplot(Gen1_phenotypes.train_accuracy,norm_hist=True,bins=50,\n",
    "                    color=sns.color_palette()[4],label='Gen1_train',kde=False)\n",
    "plt.ylabel(\"Count\");\n",
    "plt.xlabel(\"Accuracy\");\n",
    "plt.legend(loc='upper right',fontsize=16);\n",
    "plt.xlim([0,1.0])\n",
    "\n",
    "ax1 = plt.subplot2grid((4,1),(2,0));\n",
    "ax1 = sns.distplot(Gen0_phenotypes.test_accuracy,norm_hist=True,bins=50,\n",
    "                    color=sns.color_palette()[0],label='Gen0_test',kde=False);\n",
    "ax1 = sns.distplot(Gen0_phenotypes.train_accuracy,norm_hist=True,bins=50,\n",
    "                    color=sns.color_palette()[4],label='Gen0_train',kde=False)\n",
    "plt.ylabel(\"Count\");\n",
    "plt.xlabel(\"Accuracy\");\n",
    "plt.legend(loc='upper right',fontsize=16);\n",
    "plt.xlim([0,1.0]);\n",
    "plt.savefig('Gen0_Gen1_Gen2_population_accuracies.png')"
   ]
  },
  {
   "cell_type": "code",
   "execution_count": null,
   "metadata": {
    "collapsed": true
   },
   "outputs": [],
   "source": []
  }
 ],
 "metadata": {
  "anaconda-cloud": {},
  "kernelspec": {
   "display_name": "Python [conda env:dl]",
   "language": "python",
   "name": "conda-env-dl-py"
  },
  "language_info": {
   "codemirror_mode": {
    "name": "ipython",
    "version": 3
   },
   "file_extension": ".py",
   "mimetype": "text/x-python",
   "name": "python",
   "nbconvert_exporter": "python",
   "pygments_lexer": "ipython3",
   "version": "3.6.0"
  }
 },
 "nbformat": 4,
 "nbformat_minor": 1
}
